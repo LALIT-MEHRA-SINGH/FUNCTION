{
 "cells": [
  {
   "cell_type": "code",
   "execution_count": 1,
   "id": "ad41c2eb-223a-4b34-a689-1d4da6032d7d",
   "metadata": {},
   "outputs": [
    {
     "name": "stdout",
     "output_type": "stream",
     "text": [
      "The sum of even numbers in [1, 2, 3, 4, 5, 6] is 12\n"
     ]
    }
   ],
   "source": [
    "#1. Write a Python function that takes a list of numbers as input and returns the sum of all even numbers in \n",
    "    the list?\n",
    "#Ans\n",
    "def sum_of_evens(numbers):\n",
    "   return sum(num for num in numbers if num % 2 == 0)\n",
    "example_list = [1, 2, 3, 4, 5, 6]\n",
    "result = sum_of_evens(example_list)\n",
    "print(f\"The sum of even numbers in {example_list} is {result}\")\n"
   ]
  },
  {
   "cell_type": "code",
   "execution_count": 2,
   "id": "bb6d7bf2-98ee-4c0d-a8fc-861fa385eb8b",
   "metadata": {},
   "outputs": [
    {
     "name": "stdout",
     "output_type": "stream",
     "text": [
      "olleh\n"
     ]
    }
   ],
   "source": [
    "#2. Create a Python function that accepts a string and returns the reverse of that string?\n",
    "#Ans\n",
    "def reverse_string(input_string):\n",
    "    return input_string[::-1]\n",
    "example = \"hello\"\n",
    "print(reverse_string(example))  # Output: \"olleh\"\n"
   ]
  },
  {
   "cell_type": "code",
   "execution_count": 3,
   "id": "2e17be49-2a1a-439f-962f-ed9f212b9d11",
   "metadata": {},
   "outputs": [
    {
     "name": "stdout",
     "output_type": "stream",
     "text": [
      "[1, 4, 9, 16, 25]\n"
     ]
    }
   ],
   "source": [
    "#3. Implement a Python function that takes a list of integers and returns a new list containing the squares of each number?\n",
    "#Ans\n",
    "def square_numbers(numbers):\n",
    "    return [num ** 2 for num in numbers]\n",
    "# Example usage\n",
    "input_list = [1, 2, 3, 4, 5]\n",
    "squared_list = square_numbers(input_list)\n",
    "print(squared_list) \n"
   ]
  },
  {
   "cell_type": "code",
   "execution_count": null,
   "id": "10996819-77ea-4e7f-832e-21926bee58fb",
   "metadata": {},
   "outputs": [],
   "source": [
    "#4. Write a Python function that checks if a given number is prime or not from 1 to 200?\n",
    "#Ans\n",
    "def is_prime(num):\n",
    "    if num < 2:\n",
    "        return False\n",
    "    for i in range(2, int(num**0.5) + 1):\n",
    "        if num % i == 0:\n",
    "            return False\n",
    "    return True\n",
    "\n",
    "for number in range(1, 201):\n",
    "    print(f\"{number} is prime: {is_prime(number)}\")"
   ]
  },
  {
   "cell_type": "code",
   "execution_count": 1,
   "id": "7fab83bf-f9fa-4a4c-bb60-a259270bb67f",
   "metadata": {},
   "outputs": [
    {
     "name": "stdout",
     "output_type": "stream",
     "text": [
      "0\n",
      "1\n",
      "1\n",
      "1\n",
      "2\n",
      "3\n",
      "5\n",
      "8\n",
      "13\n",
      "21\n"
     ]
    }
   ],
   "source": [
    "#5. Create an iterator class in Python that generates the Fibonacci sequence up to a specified number of terms?\n",
    "#Ans\n",
    "class FibonacciIterator:\n",
    "    def __init__(self, n_terms):\n",
    "        self.n_terms = n_terms\n",
    "        self.current = 0\n",
    "        self.next = 1\n",
    "        self.count = 0\n",
    "\n",
    "    def __iter__(self):\n",
    "        return self\n",
    "\n",
    "    def __next__(self):\n",
    "        if self.count >= self.n_terms:\n",
    "            raise StopIteration\n",
    "        if self.count == 0:\n",
    "            self.count += 1\n",
    "            return self.current\n",
    "        elif self.count == 1:\n",
    "            self.count += 1\n",
    "            return self.next\n",
    "        else:\n",
    "            self.count += 1\n",
    "            self.current, self.next = self.next, self.current + self.next\n",
    "            return self.current\n",
    "\n",
    "# Example usage:\n",
    "n = 10  # Number of terms in the Fibonacci sequence\n",
    "fib_iterator = FibonacciIterator(n)\n",
    "\n",
    "for fib in fib_iterator:\n",
    "    print(fib)\n"
   ]
  },
  {
   "cell_type": "code",
   "execution_count": null,
   "id": "e0728966-46b4-413c-8f41-6129be108dd0",
   "metadata": {},
   "outputs": [],
   "source": [
    "#6. Write a generator function in Python that yields the powers of 2 up to a given exponent?\n",
    "#Ans\n",
    "def powers_of_two(max_exponent):\n",
    "    for exponent in range(max_exponent + 1):\n",
    "        yield 2 ** exponent\n",
    "\n",
    "# Example usage:\n",
    "for power in powers_of_two(5):\n",
    "    print(power)\n"
   ]
  },
  {
   "cell_type": "code",
   "execution_count": 6,
   "id": "2ffa49c8-d1de-4025-9ad7-20b8b1bea7aa",
   "metadata": {},
   "outputs": [
    {
     "name": "stdout",
     "output_type": "stream",
     "text": [
      "Line 1\n",
      "Line 2\n",
      "Line 3\n"
     ]
    }
   ],
   "source": [
    "#7. Implement a generator function that reads a file line by line and yields each line as a string.?\n",
    "#Ans\n",
    "def read_file_line_by_line(file_path):\n",
    "    \"\"\"  Args:\n",
    "        file_path (str): The path to the file to read.\n",
    "    Yields:\n",
    "        str: The next line in the file as a string.\n",
    "    \"\"\"\n",
    "    try:\n",
    "        with open(file_path, 'r') as file:\n",
    "            for line in file:\n",
    "                yield line.rstrip(\"\\n\")  # Stripping the newline character\n",
    "    except FileNotFoundError:\n",
    "        print(f\"Error: The file '{file_path}' was not found.\")\n",
    "    except IOError as e:\n",
    "        print(f\"Error reading file '{file_path}': {e}\")\n",
    "# Example usage:  Create a dummy file for testing\n",
    "with open(\"test_file.txt\", \"w\") as f:\n",
    "    f.write(\"Line 1\\n\")\n",
    "    f.write(\"Line 2\\n\")\n",
    "    f.write(\"Line 3\")\n",
    "\n",
    "# Call the function to read and print lines from the file\n",
    "for line in read_file_line_by_line(\"test_file.txt\"):\n",
    "    print(line)\n",
    "\n"
   ]
  },
  {
   "cell_type": "code",
   "execution_count": null,
   "id": "92229267-1707-45b6-ac6b-bc2bcfa7e41d",
   "metadata": {},
   "outputs": [],
   "source": [
    "8. Use a lambda function in Python to sort a list of tuples based on the second element of each tuple?\n",
    "#Ans\n",
    "# List of tuples\n",
    "tuples_list = [(1, 3), (4, 1), (2, 2), (5, 0)]\n",
    "\n",
    "# Sort the list using a lambda function\n",
    "sorted_list = sorted(tuples_list, key=lambda x: x[1])\n",
    "\n",
    "# Print the sorted list\n",
    "print(sorted_list)\n"
   ]
  },
  {
   "cell_type": "code",
   "execution_count": null,
   "id": "66f32a44-2076-40f0-91d9-c97f2343b9a8",
   "metadata": {},
   "outputs": [],
   "source": [
    "#9. Write a Python program that uses `map()` to convert a list of temperatures from Celsius to Fahrenheit.?\n",
    "#Ans\n",
    "# Function to convert Celsius to Fahrenheit\n",
    "def celsius_to_fahrenheit(celsius):\n",
    "    return (celsius * 9/5) + 32\n",
    "\n",
    "# List of temperatures in Celsius\n",
    "celsius_temperatures = [0, 20, 30, 40, 100]\n",
    "\n",
    "# Use map() to convert the temperatures\n",
    "fahrenheit_temperatures = list(map(celsius_to_fahrenheit, celsius_temperatures))\n",
    "\n",
    "# Print the converted temperatures\n",
    "print(\"Temperatures in Celsius:\", celsius_temperatures)\n",
    "print(\"Temperatures in Fahrenheit:\", fahrenheit_temperatures)\n"
   ]
  },
  {
   "cell_type": "code",
   "execution_count": 7,
   "id": "0c19cdd8-25d1-434d-930f-1122d011ae60",
   "metadata": {},
   "outputs": [
    {
     "name": "stdin",
     "output_type": "stream",
     "text": [
      "Enter a string:  a\n"
     ]
    },
    {
     "name": "stdout",
     "output_type": "stream",
     "text": [
      "String without vowels: \n"
     ]
    }
   ],
   "source": [
    "#10. Create a Python program that uses `filter()` to remove all the vowels from a given string?\n",
    "#Ans\n",
    "def remove_vowels(input_string):\n",
    "    vowels = \"aeiouAEIOU\"\n",
    "    # Use filter to remove vowels\n",
    "    no_vowels = filter(lambda char: char not in vowels, input_string)\n",
    "    # Convert the filtered result back to a string\n",
    "    return ''.join(no_vowels)\n",
    "\n",
    "# Example usage\n",
    "if __name__ == \"__main__\":\n",
    "    user_input = input(\"Enter a string: \")\n",
    "    result = remove_vowels(user_input)\n",
    "    print(f\"String without vowels: {result}\")\n"
   ]
  },
  {
   "cell_type": "code",
   "execution_count": null,
   "id": "ddfd8c3f-2ed4-4a8d-a63b-b83b97950175",
   "metadata": {},
   "outputs": [],
   "source": [
    "#11. Imagine an accounting routine used in a book shop. It works on a list with sublists, which look like this?\n",
    "#Ans\n",
    "# List of orders\n",
    "orders = [\n",
    "    [34587, \"Learning Python, Mark Lutz\", 4, 40.95],\n",
    "    [98762, \"Programming Python, Mark Lutz\", 5, 56.80],\n",
    "    [77226, \"Head First Python, Paul Barry\", 3, 32.95],\n",
    "    [88112, \"Einführung in Python3, Bernd Klein\", 3, 24.99],\n",
    "]\n",
    "\n",
    "# Using lambda and map\n",
    "result = list(map(\n",
    "    lambda order: (\n",
    "        order[0],  # Order number\n",
    "        round(order[2] * order[3] + (10 if order[2] * order[3] < 100 else 0), 2)\n",
    "    ),\n",
    "    orders\n",
    "))\n",
    "\n",
    "# Output the result\n",
    "print(result)\n"
   ]
  },
  {
   "cell_type": "code",
   "execution_count": null,
   "id": "02557608-2cad-4f7d-ac6f-f935fd3d6fa5",
   "metadata": {},
   "outputs": [],
   "source": []
  },
  {
   "cell_type": "code",
   "execution_count": null,
   "id": "8e21522f-80e9-446f-ad20-c380955903f3",
   "metadata": {},
   "outputs": [],
   "source": []
  },
  {
   "cell_type": "code",
   "execution_count": null,
   "id": "9cbdfb7f-1d93-4b08-8609-f82f6c0521be",
   "metadata": {},
   "outputs": [],
   "source": []
  }
 ],
 "metadata": {
  "kernelspec": {
   "display_name": "Python 3 (ipykernel)",
   "language": "python",
   "name": "python3"
  },
  "language_info": {
   "codemirror_mode": {
    "name": "ipython",
    "version": 3
   },
   "file_extension": ".py",
   "mimetype": "text/x-python",
   "name": "python",
   "nbconvert_exporter": "python",
   "pygments_lexer": "ipython3",
   "version": "3.12.7"
  }
 },
 "nbformat": 4,
 "nbformat_minor": 5
}
